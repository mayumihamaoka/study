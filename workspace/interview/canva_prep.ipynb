{
 "cells": [
  {
   "cell_type": "code",
   "execution_count": 1,
   "metadata": {},
   "outputs": [],
   "source": [
    "# test_with_unittest.py\n",
    "\n",
    "from unittest import TestCase\n",
    "\n",
    "class TryTesting(TestCase):\n",
    "    def test_always_passes(self):\n",
    "        self.assertTrue(True)\n",
    "\n",
    "    def test_always_fails(self):\n",
    "        self.assertTrue(False)"
   ]
  },
  {
   "cell_type": "code",
   "execution_count": 2,
   "metadata": {},
   "outputs": [],
   "source": [
    "# test_with_pytest.py\n",
    "\n",
    "def test_always_passes():\n",
    "    assert True\n",
    "\n",
    "def test_always_fails():\n",
    "    assert False\n",
    "    "
   ]
  },
  {
   "cell_type": "code",
   "execution_count": 3,
   "metadata": {},
   "outputs": [],
   "source": [
    "# test_assert_examples.py\n",
    "\n",
    "def test_uppercase():\n",
    "    assert \"loud noises\".upper() == \"LOUD NOISES\"\n",
    "\n",
    "def test_reversed():\n",
    "    assert list(reversed([1, 2, 3, 4])) == [4, 3, 2, 1]\n",
    "\n",
    "def test_some_primes():\n",
    "    assert 37 in {\n",
    "        num\n",
    "        for num in range(2, 50)\n",
    "        if not any(num % div == 0 for div in range(2, num))\n",
    "    }"
   ]
  },
  {
   "cell_type": "code",
   "execution_count": 6,
   "metadata": {},
   "outputs": [],
   "source": [
    "# test_football_v1.py\n",
    "import pytest\n",
    "# import football_v1 as fb\n",
    "\n",
    "@pytest.fixture\n",
    "def mock_csv_data():\n",
    "    return [\n",
    "        \"Team,Games,Wins,Losses,Draws,Goals For,Goals Against\",\n",
    "        \"Liverpool FC, 38, 32, 3, 3, 85, 33\",\n",
    "        \"Norwich City FC, 38, 5, 27, 6, 26, 75\",\n",
    "    ]\n",
    "\n",
    "@pytest.fixture\n",
    "def mock_csv_file(tmp_path, mock_csv_data):\n",
    "    datafile = tmp_path / \"football.csv\"\n",
    "    datafile.write_text(\"\\n\".join(mock_csv_data))\n",
    "    return str(datafile)"
   ]
  },
  {
   "cell_type": "code",
   "execution_count": null,
   "metadata": {},
   "outputs": [],
   "source": []
  }
 ],
 "metadata": {
  "kernelspec": {
   "display_name": "Python 3",
   "language": "python",
   "name": "python3"
  },
  "language_info": {
   "codemirror_mode": {
    "name": "ipython",
    "version": 3
   },
   "file_extension": ".py",
   "mimetype": "text/x-python",
   "name": "python",
   "nbconvert_exporter": "python",
   "pygments_lexer": "ipython3",
   "version": "3.11.9"
  }
 },
 "nbformat": 4,
 "nbformat_minor": 2
}
